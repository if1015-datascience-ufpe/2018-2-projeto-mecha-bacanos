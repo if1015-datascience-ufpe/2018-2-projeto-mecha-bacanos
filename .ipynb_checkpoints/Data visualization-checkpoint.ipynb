{
 "cells": [
  {
   "cell_type": "code",
   "execution_count": 93,
   "metadata": {},
   "outputs": [],
   "source": [
    "import pandas as pd"
   ]
  },
  {
   "cell_type": "code",
   "execution_count": 94,
   "metadata": {},
   "outputs": [],
   "source": [
    "users = pd.read_csv('./myanimelist/users_filtered.csv');\n",
    "animes = pd.read_csv('./myanimelist/anime_filtered.csv');"
   ]
  },
  {
   "cell_type": "markdown",
   "metadata": {},
   "source": [
    "## Filtering UserAnime List proportionally\n",
    "Filter only the user_anime relations that have a large proportion of watched_epiosodes per total number of episodes."
   ]
  },
  {
   "cell_type": "code",
   "execution_count": 95,
   "metadata": {},
   "outputs": [],
   "source": [
    "def anime_is_eligible(user_anime, watched_proportion):\n",
    "    anime = animes[animes.anime_id == user_anime.anime_id].iloc[[0]]\n",
    "    if (anime.episodes.item() > 0):\n",
    "        return user_anime.my_watched_episodes/anime.episodes.item() >= watched_proportion\n",
    "    else: return True"
   ]
  },
  {
   "cell_type": "code",
   "execution_count": 72,
   "metadata": {
    "scrolled": true
   },
   "outputs": [],
   "source": [
    "# Initializing user_anime Data Frame\n",
    "users_animes_prop = pd.DataFrame();\n",
    "\n",
    "# The size of each file chunk (if this is altered, we can't print a progress bar, so be careful)\n",
    "chunksize = 10 ** 6\n",
    "\n",
    "# If filtered, the minimum proportion of watched episodes per total number of episodes\n",
    "proportion = 0.8\n",
    "\n",
    "count = 0\n",
    "print(\"Filtering UserAnime List proportionally, hold on...\")\n",
    "for chunk in pd.read_csv('./myanimelist/animelists_cleaned.csv', chunksize=chunksize):\n",
    "    for index, row in chunk.iterrows():\n",
    "        if anime_is_eligible(row, proportion):\n",
    "            users_animes_prop = users_animes_prop.append(row)\n",
    "            current_size = len(users_animes.index)\n",
    "            print(\"Current Data Frame qtd of rows: %d\" % current_size, end=\"\\r\")\n",
    "            \n",
    "    count += 1\n",
    "    progress = (count/32) * 100\n",
    "    print()\n",
    "    print(\"%.2f%% read...\" % progress, end=\"\\r\")\n",
    "print(\"Done!\")"
   ]
  },
  {
   "cell_type": "markdown",
   "metadata": {},
   "source": [
    "## Randomily selecting samples of the UserAnime List\n",
    "Choose a random subset of the UserAnime List."
   ]
  },
  {
   "cell_type": "code",
   "execution_count": 92,
   "metadata": {},
   "outputs": [
    {
     "name": "stdout",
     "output_type": "stream",
     "text": [
      "Filtering UserAnime List randomily, hold on...\n",
      "Done!nt Data Frame row size: 32000 | 100.00% completed...\n"
     ]
    }
   ],
   "source": [
    "# Initializing user_anime Data Frame\n",
    "users_animes_rand = pd.DataFrame();\n",
    "\n",
    "# The size of each file chunk (if this is altered, we can't print a progress bar, so be careful)\n",
    "chunksize = 10 ** 6\n",
    "\n",
    "# Number of random samples per chunk\n",
    "random_size = 1000\n",
    "\n",
    "count = 0\n",
    "print(\"Filtering UserAnime List randomily, hold on...\")\n",
    "for chunk in pd.read_csv('./myanimelist/animelists_cleaned.csv', chunksize=chunksize):\n",
    "    users_animes_rand = users_animes_rand.append(chunk.sample(n=random_size, replace=True))\n",
    "            \n",
    "    count += 1\n",
    "    progress = (count/32) * 100\n",
    "    size = len(users_animes_rand.index)\n",
    "    print(\"Current Data Frame row size: %d | %.2f%% completed...\" % (size, progress), end=\"\\r\")\n",
    "print()\n",
    "print(\"Done!\")"
   ]
  }
 ],
 "metadata": {
  "kernelspec": {
   "display_name": "Python 3",
   "language": "python",
   "name": "python3"
  },
  "language_info": {
   "codemirror_mode": {
    "name": "ipython",
    "version": 3
   },
   "file_extension": ".py",
   "mimetype": "text/x-python",
   "name": "python",
   "nbconvert_exporter": "python",
   "pygments_lexer": "ipython3",
   "version": "3.6.5"
  }
 },
 "nbformat": 4,
 "nbformat_minor": 2
}
