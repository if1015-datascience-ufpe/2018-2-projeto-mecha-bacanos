{
 "cells": [
  {
   "cell_type": "markdown",
   "metadata": {},
   "source": [
    "# Filtragem dos dados\n",
    "Os dados originais para a entidade de relacionamento UserAnime é bastante grande, sendo impossível carregá-la inteiramente na memória. Portanto, aqui aplicamos métodos de filtragem para reduzir o banco de dados original."
   ]
  },
  {
   "cell_type": "code",
   "execution_count": 1,
   "metadata": {},
   "outputs": [],
   "source": [
    "import pandas as pd"
   ]
  },
  {
   "cell_type": "code",
   "execution_count": 3,
   "metadata": {},
   "outputs": [],
   "source": [
    "users = pd.read_csv('./original_data/users_cleaned.csv');\n",
    "animes = pd.read_csv('./original_data/anime_cleaned.csv');"
   ]
  },
  {
   "cell_type": "markdown",
   "metadata": {},
   "source": [
    "## Método 1: Filtro proporcional\n",
    "Filter apenas as relações user_anime que possuam uma ampla proporção de episódios assistidos pelo total de episódios lançados de um anime."
   ]
  },
  {
   "cell_type": "code",
   "execution_count": 3,
   "metadata": {},
   "outputs": [],
   "source": [
    "def anime_is_eligible(user_anime, watched_proportion):\n",
    "    anime = animes[animes.anime_id == user_anime.anime_id].iloc[[0]]\n",
    "    if (anime.episodes.item() > 0):\n",
    "        return user_anime.my_watched_episodes/anime.episodes.item() >= watched_proportion\n",
    "    else: return True"
   ]
  },
  {
   "cell_type": "code",
   "execution_count": 1,
   "metadata": {
    "scrolled": true
   },
   "outputs": [],
   "source": [
    "# Initializing user_anime Data Frame\n",
    "users_animes_prop = pd.DataFrame();\n",
    "\n",
    "# The size of each file chunk (if this is altered, we can't print a progress bar, so be careful)\n",
    "chunksize = 10 ** 6\n",
    "\n",
    "# If filtered, the minimum proportion of watched episodes per total number of episodes\n",
    "proportion = 0.8\n",
    "\n",
    "count = 0\n",
    "print(\"Filtering UserAnime List proportionally, hold on...\")\n",
    "for chunk in pd.read_csv('./original_data/animelists_cleaned.csv', chunksize=chunksize):\n",
    "    for index, row in chunk.iterrows():\n",
    "        if anime_is_eligible(row, proportion):\n",
    "            users_animes_prop = users_animes_prop.append(row)\n",
    "            current_size = len(users_animes.index)\n",
    "            print(\"Current Data Frame qtd of rows: %d\" % current_size, end=\"\\r\")\n",
    "            \n",
    "    count += 1\n",
    "    progress = (count/32) * 100\n",
    "    print()\n",
    "    print(\"%.2f%% read...\" % progress, end=\"\\r\")\n",
    "print(\"Done!\")"
   ]
  },
  {
   "cell_type": "markdown",
   "metadata": {},
   "source": [
    "## Método 2: Subconjunto aleatório\n",
    "Escolhe linhas aleatórias da tabela de relacionamento UserAnime. Este método é preferível ao primeiro, uma vez que é mais eficiente e representa melhor os dados."
   ]
  },
  {
   "cell_type": "code",
   "execution_count": 4,
   "metadata": {},
   "outputs": [
    {
     "name": "stdout",
     "output_type": "stream",
     "text": [
      "Filtering UserAnime List randomily, hold on...\n",
      "Current Data Frame row size: 3200000 | 100.00% completed...\n",
      "Done! Run next cell to save Data Frame into a CSV file.\n"
     ]
    }
   ],
   "source": [
    "# Initializing user_anime Data Frame\n",
    "users_animes_rand = pd.DataFrame();\n",
    "\n",
    "# The size of each file chunk (if this is altered, we can't print a progress bar, so be careful)\n",
    "chunksize = 10 ** 6\n",
    "\n",
    "# Number of random samples per chunk\n",
    "random_size = 100000\n",
    "\n",
    "count = 0\n",
    "print(\"Filtering UserAnime List randomily, hold on...\")\n",
    "for chunk in pd.read_csv('./original_data/animelists_cleaned.csv', chunksize=chunksize):\n",
    "    users_animes_rand = users_animes_rand.append(chunk.sample(n=random_size, replace=True))\n",
    "            \n",
    "    count += 1\n",
    "    progress = (count/32) * 100\n",
    "    size = len(users_animes_rand.index)\n",
    "    print(\"Current Data Frame row size: %d | %.2f%% completed...\" % (size, progress), end=\"\\r\")\n",
    "print()\n",
    "print(\"Done! Run next cell to save Data Frame into a CSV file.\")"
   ]
  },
  {
   "cell_type": "code",
   "execution_count": 5,
   "metadata": {},
   "outputs": [],
   "source": [
    "# Save random filtered to CSV file\n",
    "users_animes_rand.to_csv(\"./manipulated_data/user_anime.csv\")"
   ]
  }
 ],
 "metadata": {
  "kernelspec": {
   "display_name": "Python 3",
   "language": "python",
   "name": "python3"
  },
  "language_info": {
   "codemirror_mode": {
    "name": "ipython",
    "version": 3
   },
   "file_extension": ".py",
   "mimetype": "text/x-python",
   "name": "python",
   "nbconvert_exporter": "python",
   "pygments_lexer": "ipython3",
   "version": "3.6.5"
  }
 },
 "nbformat": 4,
 "nbformat_minor": 2
}
